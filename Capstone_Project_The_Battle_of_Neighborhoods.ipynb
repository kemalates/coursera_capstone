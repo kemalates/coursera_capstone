{
  "nbformat": 4,
  "nbformat_minor": 0,
  "metadata": {
    "colab": {
      "name": "Capstone Project - The Battle of Neighborhoods.ipynb",
      "provenance": [],
      "authorship_tag": "ABX9TyMUnrJM1UgBMLxC4hSh94OO",
      "include_colab_link": true
    },
    "kernelspec": {
      "name": "python3",
      "display_name": "Python 3"
    }
  },
  "cells": [
    {
      "cell_type": "markdown",
      "metadata": {
        "id": "view-in-github",
        "colab_type": "text"
      },
      "source": [
        "<a href=\"https://colab.research.google.com/github/kemalates/coursera_capstone/blob/main/Capstone_Project_The_Battle_of_Neighborhoods.ipynb\" target=\"_parent\"><img src=\"https://colab.research.google.com/assets/colab-badge.svg\" alt=\"Open In Colab\"/></a>"
      ]
    },
    {
      "cell_type": "code",
      "metadata": {
        "id": "XBXL-v_ODQsr"
      },
      "source": [
        ""
      ],
      "execution_count": null,
      "outputs": []
    },
    {
      "cell_type": "markdown",
      "metadata": {
        "id": "F3-T-w43DSUr"
      },
      "source": [
        "# Capstone Project - The Battle of Neighborhoods\n",
        "\n",
        "## Background\n",
        "Munich is a popular place to live. In order to help a person to decide where to find the right place to live, one important question is: what venues are around within a district.\n",
        "\n",
        "## Solution\n",
        "The KMeans clustering algorithm is used to cluster the neighborhoods of each district in munich according to its venues. This should help the user to find similar districts and help to find to proper flat faster.\n",
        "\n",
        "## Data\n",
        "We are using the data from foursqaure to determine the venues which are located in a district.\n",
        "\n",
        "\n"
      ]
    },
    {
      "cell_type": "markdown",
      "metadata": {
        "id": "vHmf5Ze4IzYj"
      },
      "source": [
        "### Solution"
      ]
    },
    {
      "cell_type": "code",
      "metadata": {
        "colab": {
          "base_uri": "https://localhost:8080/"
        },
        "id": "SYRGjgXSHzPN",
        "outputId": "4bffdd38-358b-4602-d5ed-da8f808171da"
      },
      "source": [
        "import numpy as np # library to handle data in a vectorized manner\n",
        "\n",
        "import pandas as pd # library for data analsysis\n",
        "pd.set_option('display.max_columns', None)\n",
        "pd.set_option('display.max_rows', None)\n",
        "\n",
        "import json # library to handle JSON files\n",
        "\n",
        "#!conda install -c conda-forge geopy --yes # uncomment this line if you haven't completed the Foursquare API lab\n",
        "from geopy.geocoders import Nominatim # convert an address into latitude and longitude values\n",
        "\n",
        "import requests # library to handle requests\n",
        "from pandas.io.json import json_normalize # tranform JSON file into a pandas dataframe\n",
        "\n",
        "# Matplotlib and associated plotting modules\n",
        "import matplotlib.cm as cm\n",
        "import matplotlib.colors as colors\n",
        "\n",
        "# import k-means from clustering stage\n",
        "from sklearn.cluster import KMeans\n",
        "\n",
        "#!conda install -c conda-forge folium=0.5.0 --yes # uncomment this line if you haven't completed the Foursquare API lab\n",
        "import folium # map rendering library\n",
        "\n",
        "print('Libraries imported.')"
      ],
      "execution_count": 1,
      "outputs": [
        {
          "output_type": "stream",
          "text": [
            "Libraries imported.\n"
          ],
          "name": "stdout"
        }
      ]
    },
    {
      "cell_type": "code",
      "metadata": {
        "colab": {
          "base_uri": "https://localhost:8080/"
        },
        "id": "p5UcctULJFYO",
        "outputId": "62ed30f6-aec7-4561-ce9a-aee68eeef8af"
      },
      "source": [
        "address = 'Munich'\n",
        "\n",
        "geolocator = Nominatim(user_agent=\"ny_explorer\")\n",
        "location = geolocator.geocode(address)\n",
        "lat_m = location.latitude\n",
        "long_m = location.longitude\n",
        "print('The geograpical coordinate are {}, {}.'.format(lat_m, long_m))"
      ],
      "execution_count": 3,
      "outputs": [
        {
          "output_type": "stream",
          "text": [
            "The geograpical coordinate are 48.1371079, 11.5753822.\n"
          ],
          "name": "stdout"
        }
      ]
    },
    {
      "cell_type": "code",
      "metadata": {
        "colab": {
          "base_uri": "https://localhost:8080/",
          "height": 824
        },
        "id": "qv4Yq8b9JUZG",
        "outputId": "76eddf0b-8969-4417-95bf-971f0646681b"
      },
      "source": [
        "url = 'https://www.muenchen.de/int/en/living/postal-codes.html'\n",
        "munich_data_pc = pd.read_html(url)\n",
        "munich_postal_code = munich_data_pc[0]\n",
        "munich_postal_code"
      ],
      "execution_count": 5,
      "outputs": [
        {
          "output_type": "execute_result",
          "data": {
            "text/html": [
              "<div>\n",
              "<style scoped>\n",
              "    .dataframe tbody tr th:only-of-type {\n",
              "        vertical-align: middle;\n",
              "    }\n",
              "\n",
              "    .dataframe tbody tr th {\n",
              "        vertical-align: top;\n",
              "    }\n",
              "\n",
              "    .dataframe thead th {\n",
              "        text-align: right;\n",
              "    }\n",
              "</style>\n",
              "<table border=\"1\" class=\"dataframe\">\n",
              "  <thead>\n",
              "    <tr style=\"text-align: right;\">\n",
              "      <th></th>\n",
              "      <th>District</th>\n",
              "      <th>Postal Code</th>\n",
              "    </tr>\n",
              "  </thead>\n",
              "  <tbody>\n",
              "    <tr>\n",
              "      <th>0</th>\n",
              "      <td>Allach-Untermenzing</td>\n",
              "      <td>80995, 80997, 80999, 81247, 81249</td>\n",
              "    </tr>\n",
              "    <tr>\n",
              "      <th>1</th>\n",
              "      <td>Altstadt-Lehel</td>\n",
              "      <td>80331, 80333, 80335, 80336, 80469, 80538, 80539</td>\n",
              "    </tr>\n",
              "    <tr>\n",
              "      <th>2</th>\n",
              "      <td>Au-Haidhausen</td>\n",
              "      <td>81541, 81543, 81667, 81669, 81671, 81675, 81677</td>\n",
              "    </tr>\n",
              "    <tr>\n",
              "      <th>3</th>\n",
              "      <td>Aubing-Lochhausen-Langwied</td>\n",
              "      <td>81243, 81245, 81249</td>\n",
              "    </tr>\n",
              "    <tr>\n",
              "      <th>4</th>\n",
              "      <td>Berg am Laim</td>\n",
              "      <td>81671, 81673, 81735, 81825</td>\n",
              "    </tr>\n",
              "    <tr>\n",
              "      <th>5</th>\n",
              "      <td>Bogenhausen</td>\n",
              "      <td>81675, 81677, 81679, 81925, 81927, 81929</td>\n",
              "    </tr>\n",
              "    <tr>\n",
              "      <th>6</th>\n",
              "      <td>Feldmoching-Hasenbergl</td>\n",
              "      <td>80933, 80935, 80995</td>\n",
              "    </tr>\n",
              "    <tr>\n",
              "      <th>7</th>\n",
              "      <td>Hadern</td>\n",
              "      <td>80689, 81375, 81377</td>\n",
              "    </tr>\n",
              "    <tr>\n",
              "      <th>8</th>\n",
              "      <td>Laim</td>\n",
              "      <td>80686, 80687, 80689</td>\n",
              "    </tr>\n",
              "    <tr>\n",
              "      <th>9</th>\n",
              "      <td>Ludwigsvorstadt-Isarvorstadt</td>\n",
              "      <td>80335, 80336, 80337, 80469</td>\n",
              "    </tr>\n",
              "    <tr>\n",
              "      <th>10</th>\n",
              "      <td>Maxvorstadt</td>\n",
              "      <td>80333, 80335, 80539, 80636, 80797, 80798, 8079...</td>\n",
              "    </tr>\n",
              "    <tr>\n",
              "      <th>11</th>\n",
              "      <td>Milbertshofen-Am Hart</td>\n",
              "      <td>80807, 80809, 80937, 80939</td>\n",
              "    </tr>\n",
              "    <tr>\n",
              "      <th>12</th>\n",
              "      <td>Moosach</td>\n",
              "      <td>80637, 80638, 80992, 80993, 80997</td>\n",
              "    </tr>\n",
              "    <tr>\n",
              "      <th>13</th>\n",
              "      <td>Neuhausen-Nymphenburg</td>\n",
              "      <td>80634, 80636, 80637, 80638, 80639</td>\n",
              "    </tr>\n",
              "    <tr>\n",
              "      <th>14</th>\n",
              "      <td>Obergiesing</td>\n",
              "      <td>81539, 81541, 81547, 81549</td>\n",
              "    </tr>\n",
              "    <tr>\n",
              "      <th>15</th>\n",
              "      <td>Pasing-Obermenzing</td>\n",
              "      <td>80687, 80689, 81241, 81243, 81245, 81247</td>\n",
              "    </tr>\n",
              "    <tr>\n",
              "      <th>16</th>\n",
              "      <td>Ramersdorf-Perlach</td>\n",
              "      <td>81539, 81549, 81669, 81671, 81735, 81737, 81739</td>\n",
              "    </tr>\n",
              "    <tr>\n",
              "      <th>17</th>\n",
              "      <td>Schwabing-Freimann</td>\n",
              "      <td>80538, 80801, 80802, 80803, 80804, 80805, 8080...</td>\n",
              "    </tr>\n",
              "    <tr>\n",
              "      <th>18</th>\n",
              "      <td>Schwabing-West</td>\n",
              "      <td>80796, 80797, 80798, 80799, 80801, 80803, 8080...</td>\n",
              "    </tr>\n",
              "    <tr>\n",
              "      <th>19</th>\n",
              "      <td>Schwanthalerhöhe</td>\n",
              "      <td>80335, 80339</td>\n",
              "    </tr>\n",
              "    <tr>\n",
              "      <th>20</th>\n",
              "      <td>Sendling</td>\n",
              "      <td>80336, 80337, 80469, 81369, 81371, 81373, 81379</td>\n",
              "    </tr>\n",
              "    <tr>\n",
              "      <th>21</th>\n",
              "      <td>Sendling-Westpark</td>\n",
              "      <td>80686, 81369, 81373, 81377, 81379</td>\n",
              "    </tr>\n",
              "    <tr>\n",
              "      <th>22</th>\n",
              "      <td>Thalkirchen-Obersendling-Fürstenried-Forstenri...</td>\n",
              "      <td>81379, 81475, 81476, 81477, 81479</td>\n",
              "    </tr>\n",
              "    <tr>\n",
              "      <th>23</th>\n",
              "      <td>Trudering-Riem</td>\n",
              "      <td>81735, 81825, 81827, 81829</td>\n",
              "    </tr>\n",
              "    <tr>\n",
              "      <th>24</th>\n",
              "      <td>Untergiesing-Harlaching</td>\n",
              "      <td>81543, 81545, 81547</td>\n",
              "    </tr>\n",
              "  </tbody>\n",
              "</table>\n",
              "</div>"
            ],
            "text/plain": [
              "                                             District  \\\n",
              "0                                 Allach-Untermenzing   \n",
              "1                                      Altstadt-Lehel   \n",
              "2                                       Au-Haidhausen   \n",
              "3                          Aubing-Lochhausen-Langwied   \n",
              "4                                        Berg am Laim   \n",
              "5                                         Bogenhausen   \n",
              "6                              Feldmoching-Hasenbergl   \n",
              "7                                              Hadern   \n",
              "8                                                Laim   \n",
              "9                        Ludwigsvorstadt-Isarvorstadt   \n",
              "10                                        Maxvorstadt   \n",
              "11                              Milbertshofen-Am Hart   \n",
              "12                                            Moosach   \n",
              "13                              Neuhausen-Nymphenburg   \n",
              "14                                        Obergiesing   \n",
              "15                                 Pasing-Obermenzing   \n",
              "16                                 Ramersdorf-Perlach   \n",
              "17                                 Schwabing-Freimann   \n",
              "18                                     Schwabing-West   \n",
              "19                                   Schwanthalerhöhe   \n",
              "20                                           Sendling   \n",
              "21                                  Sendling-Westpark   \n",
              "22  Thalkirchen-Obersendling-Fürstenried-Forstenri...   \n",
              "23                                     Trudering-Riem   \n",
              "24                            Untergiesing-Harlaching   \n",
              "\n",
              "                                          Postal Code  \n",
              "0                   80995, 80997, 80999, 81247, 81249  \n",
              "1     80331, 80333, 80335, 80336, 80469, 80538, 80539  \n",
              "2     81541, 81543, 81667, 81669, 81671, 81675, 81677  \n",
              "3                                 81243, 81245, 81249  \n",
              "4                          81671, 81673, 81735, 81825  \n",
              "5            81675, 81677, 81679, 81925, 81927, 81929  \n",
              "6                                 80933, 80935, 80995  \n",
              "7                                 80689, 81375, 81377  \n",
              "8                                 80686, 80687, 80689  \n",
              "9                          80335, 80336, 80337, 80469  \n",
              "10  80333, 80335, 80539, 80636, 80797, 80798, 8079...  \n",
              "11                         80807, 80809, 80937, 80939  \n",
              "12                  80637, 80638, 80992, 80993, 80997  \n",
              "13                  80634, 80636, 80637, 80638, 80639  \n",
              "14                         81539, 81541, 81547, 81549  \n",
              "15           80687, 80689, 81241, 81243, 81245, 81247  \n",
              "16    81539, 81549, 81669, 81671, 81735, 81737, 81739  \n",
              "17  80538, 80801, 80802, 80803, 80804, 80805, 8080...  \n",
              "18  80796, 80797, 80798, 80799, 80801, 80803, 8080...  \n",
              "19                                       80335, 80339  \n",
              "20    80336, 80337, 80469, 81369, 81371, 81373, 81379  \n",
              "21                  80686, 81369, 81373, 81377, 81379  \n",
              "22                  81379, 81475, 81476, 81477, 81479  \n",
              "23                         81735, 81825, 81827, 81829  \n",
              "24                                81543, 81545, 81547  "
            ]
          },
          "metadata": {
            "tags": []
          },
          "execution_count": 5
        }
      ]
    },
    {
      "cell_type": "code",
      "metadata": {
        "colab": {
          "base_uri": "https://localhost:8080/",
          "height": 204
        },
        "id": "ci45nVXhJnam",
        "outputId": "bba92075-7eac-4bdf-8fea-496465865eee"
      },
      "source": [
        "munich_split = pd.DataFrame(columns=['District', 'Postal Code'])\n",
        "items = []\n",
        "for idx, codes in enumerate(munich_postal_code['Postal Code']):\n",
        "    code_list = codes.split(',')\n",
        "    district = munich_postal_code['District'][idx]\n",
        "    for element in code_list:\n",
        "        element = element.replace(' ', '')\n",
        "        items.append({'District': district, 'Postal Code': element})\n",
        "munich_split = munich_split.append(items)\n",
        "munich_split.head()        "
      ],
      "execution_count": 9,
      "outputs": [
        {
          "output_type": "execute_result",
          "data": {
            "text/html": [
              "<div>\n",
              "<style scoped>\n",
              "    .dataframe tbody tr th:only-of-type {\n",
              "        vertical-align: middle;\n",
              "    }\n",
              "\n",
              "    .dataframe tbody tr th {\n",
              "        vertical-align: top;\n",
              "    }\n",
              "\n",
              "    .dataframe thead th {\n",
              "        text-align: right;\n",
              "    }\n",
              "</style>\n",
              "<table border=\"1\" class=\"dataframe\">\n",
              "  <thead>\n",
              "    <tr style=\"text-align: right;\">\n",
              "      <th></th>\n",
              "      <th>District</th>\n",
              "      <th>Postal Code</th>\n",
              "    </tr>\n",
              "  </thead>\n",
              "  <tbody>\n",
              "    <tr>\n",
              "      <th>0</th>\n",
              "      <td>Allach-Untermenzing</td>\n",
              "      <td>80995</td>\n",
              "    </tr>\n",
              "    <tr>\n",
              "      <th>1</th>\n",
              "      <td>Allach-Untermenzing</td>\n",
              "      <td>80997</td>\n",
              "    </tr>\n",
              "    <tr>\n",
              "      <th>2</th>\n",
              "      <td>Allach-Untermenzing</td>\n",
              "      <td>80999</td>\n",
              "    </tr>\n",
              "    <tr>\n",
              "      <th>3</th>\n",
              "      <td>Allach-Untermenzing</td>\n",
              "      <td>81247</td>\n",
              "    </tr>\n",
              "    <tr>\n",
              "      <th>4</th>\n",
              "      <td>Allach-Untermenzing</td>\n",
              "      <td>81249</td>\n",
              "    </tr>\n",
              "  </tbody>\n",
              "</table>\n",
              "</div>"
            ],
            "text/plain": [
              "              District Postal Code\n",
              "0  Allach-Untermenzing       80995\n",
              "1  Allach-Untermenzing       80997\n",
              "2  Allach-Untermenzing       80999\n",
              "3  Allach-Untermenzing       81247\n",
              "4  Allach-Untermenzing       81249"
            ]
          },
          "metadata": {
            "tags": []
          },
          "execution_count": 9
        }
      ]
    },
    {
      "cell_type": "code",
      "metadata": {
        "colab": {
          "base_uri": "https://localhost:8080/"
        },
        "id": "azy7FRULNDCa",
        "outputId": "77bedf7c-1d20-4892-c35a-6d7dbdb45010"
      },
      "source": [
        "# Foursquare\n",
        "# credentials\n",
        "CLIENT_ID = '********' # your Foursquare ID\n",
        "CLIENT_SECRET = '********' # your Foursquare Secret\n",
        "VERSION = '20200410' # Foursquare API version\n",
        "LIMIT = 100\n",
        "\n",
        "print('Your credentails:')\n",
        "print('CLIENT_ID: ' + CLIENT_ID)\n",
        "print('CLIENT_SECRET:' + CLIENT_SECRET)"
      ],
      "execution_count": 10,
      "outputs": [
        {
          "output_type": "stream",
          "text": [
            "Your credentails:\n",
            "CLIENT_ID: QM0POUPVZYFTNT5FDLTAXN4AOSDH0WHSBYMZT1IDCB0NPVKX\n",
            "CLIENT_SECRET:BLCAONVVQLVL4TNTWHNFUC1IEXUKUUV5OU5SHSZQMTBPEQTS\n"
          ],
          "name": "stdout"
        }
      ]
    },
    {
      "cell_type": "code",
      "metadata": {
        "colab": {
          "base_uri": "https://localhost:8080/",
          "height": 204
        },
        "id": "iCMMu9LIN_Mu",
        "outputId": "c76acf78-3433-4c61-e8c9-8a293a2713a0"
      },
      "source": [
        "\n",
        "# create new dataframe additionally containing the latitude and longitude values of each district and postal code mapping \n",
        "munich_df = pd.DataFrame(columns=['District', 'Postal Code', 'Latitude', 'Longitude'])\n",
        "\n",
        "# loop over all entries of old data frame and store according values\n",
        "items = []\n",
        "for idx, district in enumerate(munich_split['District']):\n",
        "    code = munich_split['Postal Code'][idx]\n",
        "    address = district + ', ' + code # to get format of address\n",
        "\n",
        "    geolocator = Nominatim(user_agent=\"ny_explorer\")\n",
        "    location = geolocator.geocode(address)\n",
        "    latitude = location.latitude\n",
        "    longitude = location.longitude\n",
        "    items.append({'District': district, \n",
        "                  'Postal Code': code,\n",
        "                  'Latitude': latitude,\n",
        "                  'Longitude': longitude})\n",
        "munich_df = munich_df.append(items)\n",
        "munich_df.head()    "
      ],
      "execution_count": 11,
      "outputs": [
        {
          "output_type": "execute_result",
          "data": {
            "text/html": [
              "<div>\n",
              "<style scoped>\n",
              "    .dataframe tbody tr th:only-of-type {\n",
              "        vertical-align: middle;\n",
              "    }\n",
              "\n",
              "    .dataframe tbody tr th {\n",
              "        vertical-align: top;\n",
              "    }\n",
              "\n",
              "    .dataframe thead th {\n",
              "        text-align: right;\n",
              "    }\n",
              "</style>\n",
              "<table border=\"1\" class=\"dataframe\">\n",
              "  <thead>\n",
              "    <tr style=\"text-align: right;\">\n",
              "      <th></th>\n",
              "      <th>District</th>\n",
              "      <th>Postal Code</th>\n",
              "      <th>Latitude</th>\n",
              "      <th>Longitude</th>\n",
              "    </tr>\n",
              "  </thead>\n",
              "  <tbody>\n",
              "    <tr>\n",
              "      <th>0</th>\n",
              "      <td>Allach-Untermenzing</td>\n",
              "      <td>80995</td>\n",
              "      <td>48.195157</td>\n",
              "      <td>11.462973</td>\n",
              "    </tr>\n",
              "    <tr>\n",
              "      <th>1</th>\n",
              "      <td>Allach-Untermenzing</td>\n",
              "      <td>80997</td>\n",
              "      <td>48.195157</td>\n",
              "      <td>11.462973</td>\n",
              "    </tr>\n",
              "    <tr>\n",
              "      <th>2</th>\n",
              "      <td>Allach-Untermenzing</td>\n",
              "      <td>80999</td>\n",
              "      <td>48.195157</td>\n",
              "      <td>11.462973</td>\n",
              "    </tr>\n",
              "    <tr>\n",
              "      <th>3</th>\n",
              "      <td>Allach-Untermenzing</td>\n",
              "      <td>81247</td>\n",
              "      <td>48.195157</td>\n",
              "      <td>11.462973</td>\n",
              "    </tr>\n",
              "    <tr>\n",
              "      <th>4</th>\n",
              "      <td>Allach-Untermenzing</td>\n",
              "      <td>81249</td>\n",
              "      <td>48.195157</td>\n",
              "      <td>11.462973</td>\n",
              "    </tr>\n",
              "  </tbody>\n",
              "</table>\n",
              "</div>"
            ],
            "text/plain": [
              "              District Postal Code   Latitude  Longitude\n",
              "0  Allach-Untermenzing       80995  48.195157  11.462973\n",
              "1  Allach-Untermenzing       80997  48.195157  11.462973\n",
              "2  Allach-Untermenzing       80999  48.195157  11.462973\n",
              "3  Allach-Untermenzing       81247  48.195157  11.462973\n",
              "4  Allach-Untermenzing       81249  48.195157  11.462973"
            ]
          },
          "metadata": {
            "tags": []
          },
          "execution_count": 11
        }
      ]
    },
    {
      "cell_type": "markdown",
      "metadata": {
        "id": "OfiwgW9uO3_S"
      },
      "source": [
        "## Munich Map Visualization"
      ]
    },
    {
      "cell_type": "code",
      "metadata": {
        "id": "0ZmpZugnOZo2"
      },
      "source": [
        "# create map of munich using latitude and longitude values\n",
        "map_munich = folium.Map(location=[munich_df[\"Latitude\"].iloc[0], munich_df[\"Longitude\"].iloc[0]], zoom_start=12)\n",
        "\n",
        "# add markers to map\n",
        "for lat, lng, district in zip(munich_df['Latitude'], munich_df['Longitude'], munich_df['District']):\n",
        "    label = '{}'.format(district)\n",
        "    label = folium.Popup(label, parse_html=True)\n",
        "    folium.CircleMarker(\n",
        "        [lat, lng],\n",
        "        radius=5,\n",
        "        popup=label,\n",
        "        color='blue',\n",
        "        fill=True,\n",
        "        fill_color='#3186cc',\n",
        "        fill_opacity=0.7,\n",
        "        parse_html=False).add_to(map_munich)  \n",
        "    \n",
        "# map_munich"
      ],
      "execution_count": 15,
      "outputs": []
    },
    {
      "cell_type": "code",
      "metadata": {
        "id": "riKIiv3tOrU_"
      },
      "source": [
        "def getNearbyVenuesMunich(names, latitudes, longitudes, radius=500):\n",
        "    \n",
        "    venues_list=[]\n",
        "    for name, lat, lng in zip(names, latitudes, longitudes):\n",
        "        print(name)\n",
        "            \n",
        "        # create the API request URL\n",
        "        url = 'https://api.foursquare.com/v2/venues/explore?&client_id={}&client_secret={}&v={}&ll={},{}&radius={}&limit={}'.format(\n",
        "            CLIENT_ID, \n",
        "            CLIENT_SECRET, \n",
        "            VERSION, \n",
        "            lat, \n",
        "            lng, \n",
        "            radius, \n",
        "            LIMIT)\n",
        "            \n",
        "        # make the GET request\n",
        "        results = requests.get(url).json()[\"response\"]['groups'][0]['items']\n",
        "        \n",
        "        # return only relevant information for each nearby venue\n",
        "        venues_list.append([(\n",
        "            name, \n",
        "            lat, \n",
        "            lng, \n",
        "            v['venue']['name'], \n",
        "            v['venue']['location']['lat'], \n",
        "            v['venue']['location']['lng'],  \n",
        "            v['venue']['categories'][0]['name']) for v in results])\n",
        "\n",
        "    nearby_venues = pd.DataFrame([item for venue_list in venues_list for item in venue_list])\n",
        "    nearby_venues.columns = ['Neighborhood', \n",
        "                  'Neighborhood Latitude', \n",
        "                  'Neighborhood Longitude', \n",
        "                  'Venue', \n",
        "                  'Venue Latitude', \n",
        "                  'Venue Longitude', \n",
        "                  'Venue Category']\n",
        "    \n",
        "    return(nearby_venues)"
      ],
      "execution_count": 30,
      "outputs": []
    },
    {
      "cell_type": "code",
      "metadata": {
        "id": "lHFettWKRhC6"
      },
      "source": [
        "k=5\n",
        "munich_clustering = munich_df.drop(['Postal Code','Borough','Neighbourhood'],1)\n",
        "kmeans = KMeans(n_clusters = k,random_state=0).fit(munich_clustering)\n",
        "kmeans.labels_\n",
        "df_toronto.insert(0, 'Cluster Labels', kmeans.labels_)"
      ],
      "execution_count": null,
      "outputs": []
    },
    {
      "cell_type": "code",
      "metadata": {
        "id": "-BPnKEX8S_Kv"
      },
      "source": [
        "# create map\n",
        "map_clusters = folium.Map(location=[latitude, longitude], zoom_start=11)\n",
        "\n",
        "# set color scheme for the clusters\n",
        "x = np.arange(kclusters)\n",
        "ys = [i + x + (i*x)**2 for i in range(kclusters)]\n",
        "colors_array = cm.rainbow(np.linspace(0, 1, len(ys)))\n",
        "rainbow = [colors.rgb2hex(i) for i in colors_array]\n",
        "\n",
        "# add markers to the map\n",
        "markers_colors = []\n",
        "for lat, lon, poi, cluster in zip(munich_merged['Latitude'], munich_merged['Longitude'], munich_merged['Neighborhood'], munich_merged['Cluster Labels']):\n",
        "    label = folium.Popup(str(poi) + ' Cluster ' + str(cluster), parse_html=True)\n",
        "    folium.CircleMarker(\n",
        "        [lat, lon],\n",
        "        radius=5,\n",
        "        popup=label,\n",
        "        color=rainbow[cluster-1],\n",
        "        fill=True,\n",
        "        fill_color=rainbow[cluster-1],\n",
        "        fill_opacity=0.7).add_to(map_clusters)\n",
        "       \n",
        "map_clusters"
      ],
      "execution_count": null,
      "outputs": []
    }
  ]
}